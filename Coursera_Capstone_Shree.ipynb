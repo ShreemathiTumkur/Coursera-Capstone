{
 "cells": [
  {
   "cell_type": "markdown",
   "metadata": {},
   "source": [
    "# Coursera Data Science Capstone Project"
   ]
  },
  {
   "cell_type": "markdown",
   "metadata": {},
   "source": [
    "## Introduction / Business Problem"
   ]
  },
  {
   "cell_type": "markdown",
   "metadata": {},
   "source": [
    "The core question is: What is the best way to find the nearest hospitals in neighborhoods in New York City that are most impacted with COVID-19 cases?\n",
    "\n",
    "Between March - May 2020, NYC saw the most number of positive cases with COVID-19. This project is for healthcare workers and residents of NYC to learn about the hospitals in their neighborhoods. And also to learn about the neighborhoods are were most impacted by the pandemic. "
   ]
  },
  {
   "cell_type": "markdown",
   "metadata": {},
   "source": [
    "## Data section"
   ]
  },
  {
   "cell_type": "markdown",
   "metadata": {},
   "source": [
    "Data used to solve the problem include:\n",
    "1. Data from Foursquare using the API to get hospitals data in the vicinity\n",
    "2. Dataset that contains the five boroughs and the neighborhoods that exist in each borough as well as the the latitude and logitude coordinates of each neighborhood\n",
    "3. Counts and rates of confirmed cases, by NYC borough of residence"
   ]
  },
  {
   "cell_type": "code",
   "execution_count": null,
   "metadata": {},
   "outputs": [],
   "source": []
  }
 ],
 "metadata": {
  "kernelspec": {
   "display_name": "Python",
   "language": "python",
   "name": "conda-env-python-py"
  },
  "language_info": {
   "codemirror_mode": {
    "name": "ipython",
    "version": 3
   },
   "file_extension": ".py",
   "mimetype": "text/x-python",
   "name": "python",
   "nbconvert_exporter": "python",
   "pygments_lexer": "ipython3",
   "version": "3.6.10"
  }
 },
 "nbformat": 4,
 "nbformat_minor": 4
}
